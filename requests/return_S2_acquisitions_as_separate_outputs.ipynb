{
 "cells": [
  {
   "attachments": {},
   "cell_type": "markdown",
   "metadata": {},
   "source": [
    "# How to generate 1 output TIFF per acquisition in a specified AOI and time range\n",
    "\n",
    "## Imports"
   ]
  },
  {
   "cell_type": "code",
   "execution_count": null,
   "id": "4b44dffe-9762-4c38-96fd-f06dd96d9770",
   "metadata": {},
   "outputs": [],
   "source": [
    "from sentinelhub import (\n",
    "    SHConfig,\n",
    "    BBox,\n",
    "    bbox_to_dimensions,\n",
    "    CRS,\n",
    "    DataCollection,\n",
    "    SentinelHubCatalog,\n",
    "    SentinelHubRequest,\n",
    "    MimeType,\n",
    "    MosaickingOrder\n",
    ")"
   ]
  },
  {
   "attachments": {},
   "cell_type": "markdown",
   "metadata": {},
   "source": [
    "Authentification with config class ([instructions on the configuration](https://sentinelhub-py.readthedocs.io/en/latest/configure.html))."
   ]
  },
  {
   "cell_type": "code",
   "execution_count": 2,
   "id": "abc0e83e-16fc-419b-8ba3-7fbeea1c36f4",
   "metadata": {},
   "outputs": [],
   "source": [
    "config = SHConfig()"
   ]
  },
  {
   "attachments": {},
   "cell_type": "markdown",
   "metadata": {},
   "source": [
    "## Catalog API\n",
    "Initiate Catalog API instance with config class."
   ]
  },
  {
   "cell_type": "code",
   "execution_count": 3,
   "id": "28bcd472-b799-44be-935d-a44ff7fe3799",
   "metadata": {},
   "outputs": [],
   "source": [
    "catalog = SentinelHubCatalog(config=config)"
   ]
  },
  {
   "attachments": {},
   "cell_type": "markdown",
   "metadata": {},
   "source": [
    "Specify collection, AOI and output size."
   ]
  },
  {
   "cell_type": "code",
   "execution_count": 4,
   "id": "cf2d36c8-8f1e-4fc0-807f-53d1930a45d3",
   "metadata": {},
   "outputs": [
    {
     "name": "stdout",
     "output_type": "stream",
     "text": [
      "Image shape at 10 m resolution: (796, 499) pixels\n"
     ]
    }
   ],
   "source": [
    "collection = DataCollection.SENTINEL2_L2A\n",
    "testing_bbox = BBox(\n",
    "    [12.44693, 41.870072, 12.541001, 41.917096],\n",
    "    crs=CRS.WGS84)\n",
    "time_interval = \"2023-01-01\", \"2023-02-01\"\n",
    "resolution = 10\n",
    "bbox_size = bbox_to_dimensions(testing_bbox, resolution=resolution)\n",
    "\n",
    "print(f\"Image shape at {resolution} m resolution: {bbox_size} pixels\")"
   ]
  },
  {
   "attachments": {},
   "cell_type": "markdown",
   "metadata": {},
   "source": [
    "Search catalog entries for specified AOI and time range to save the scene and acquisition dates."
   ]
  },
  {
   "cell_type": "code",
   "execution_count": 5,
   "id": "e4ea052c-25c5-4ed5-b5fd-a46f8ebccb05",
   "metadata": {},
   "outputs": [],
   "source": [
    "search_iterator = catalog.search(\n",
    "    collection,\n",
    "    bbox=testing_bbox,\n",
    "    time=time_interval,\n",
    "    fields={\"include\": [\"id\", \"properties.datetime\"], \"exclude\": []},\n",
    ")"
   ]
  },
  {
   "cell_type": "code",
   "execution_count": 6,
   "id": "270e3a0c-549c-48c7-9286-1accb0524b07",
   "metadata": {},
   "outputs": [
    {
     "data": {
      "text/plain": [
       "[{'id': 'S2A_MSIL2A_20230130T100241_N0509_R122_T32TQM_20230130T142458',\n",
       "  'properties': {'datetime': '2023-01-30T10:09:10Z'}},\n",
       " {'id': 'S2A_MSIL2A_20230130T100241_N0509_R122_T33TTG_20230130T142458',\n",
       "  'properties': {'datetime': '2023-01-30T10:09:10Z'}},\n",
       " {'id': 'S2B_MSIL2A_20230125T100209_N0509_R122_T32TQM_20230125T112820',\n",
       "  'properties': {'datetime': '2023-01-25T10:09:09Z'}},\n",
       " {'id': 'S2B_MSIL2A_20230125T100209_N0509_R122_T33TTG_20230125T112820',\n",
       "  'properties': {'datetime': '2023-01-25T10:09:09Z'}},\n",
       " {'id': 'S2A_MSIL2A_20230120T100331_N0509_R122_T32TQM_20230120T142209',\n",
       "  'properties': {'datetime': '2023-01-20T10:09:06Z'}},\n",
       " {'id': 'S2A_MSIL2A_20230120T100331_N0509_R122_T33TTG_20230120T142209',\n",
       "  'properties': {'datetime': '2023-01-20T10:09:06Z'}},\n",
       " {'id': 'S2B_MSIL2A_20230115T100249_N0509_R122_T32TQM_20230115T112323',\n",
       "  'properties': {'datetime': '2023-01-15T10:09:08Z'}},\n",
       " {'id': 'S2B_MSIL2A_20230115T100249_N0509_R122_T33TTG_20230115T112323',\n",
       "  'properties': {'datetime': '2023-01-15T10:09:08Z'}},\n",
       " {'id': 'S2A_MSIL2A_20230110T100401_N0509_R122_T33TTG_20230110T160951',\n",
       "  'properties': {'datetime': '2023-01-10T10:09:10Z'}},\n",
       " {'id': 'S2A_MSIL2A_20230110T100401_N0509_R122_T32TQM_20230110T160951',\n",
       "  'properties': {'datetime': '2023-01-10T10:09:10Z'}},\n",
       " {'id': 'S2B_MSIL2A_20230105T100319_N0509_R122_T32TQM_20230105T112339',\n",
       "  'properties': {'datetime': '2023-01-05T10:09:09Z'}},\n",
       " {'id': 'S2B_MSIL2A_20230105T100319_N0509_R122_T33TTG_20230105T112339',\n",
       "  'properties': {'datetime': '2023-01-05T10:09:09Z'}}]"
      ]
     },
     "execution_count": 6,
     "metadata": {},
     "output_type": "execute_result"
    }
   ],
   "source": [
    "results = list(search_iterator)\n",
    "results"
   ]
  },
  {
   "attachments": {},
   "cell_type": "markdown",
   "metadata": {},
   "source": [
    "Create unique timestamps from the Catalog acquisition list."
   ]
  },
  {
   "cell_type": "code",
   "execution_count": 7,
   "id": "27ea9651-8104-46d2-8cf1-5358705444bd",
   "metadata": {},
   "outputs": [
    {
     "data": {
      "text/plain": [
       "['20230105', '20230110', '20230115', '20230120', '20230125', '20230130']"
      ]
     },
     "execution_count": 7,
     "metadata": {},
     "output_type": "execute_result"
    }
   ],
   "source": [
    "timestamps = sorted(set(tile['properties']['datetime'].split('T')[0].replace(\"-\", \"\") for tile in results))\n",
    "timestamps"
   ]
  },
  {
   "attachments": {},
   "cell_type": "markdown",
   "metadata": {},
   "source": [
    "Define the output dictionaries (string) we want to pass into the evalscript's `function setup()`."
   ]
  },
  {
   "cell_type": "code",
   "execution_count": 8,
   "id": "e0927390-8b81-4f7f-b171-3e3fd4ae24b8",
   "metadata": {},
   "outputs": [
    {
     "data": {
      "text/plain": [
       "'{id: \"acq_20230105\", bands: 2}, {id: \"acq_20230110\", bands: 2}, {id: \"acq_20230115\", bands: 2}, {id: \"acq_20230120\", bands: 2}, {id: \"acq_20230125\", bands: 2}, {id: \"acq_20230130\", bands: 2}'"
      ]
     },
     "execution_count": 8,
     "metadata": {},
     "output_type": "execute_result"
    }
   ],
   "source": [
    "output_list = [f'{{id: \"acq_{scene}\", bands: 2}}' for scene in timestamps]\n",
    "output_str = \", \".join(output_list)\n",
    "output_str"
   ]
  },
  {
   "attachments": {},
   "cell_type": "markdown",
   "metadata": {},
   "source": [
    "Define the return dictionary (string) we want to pass into the evalscript's `function evaluatePixel()`."
   ]
  },
  {
   "cell_type": "code",
   "execution_count": 9,
   "id": "ea5d738c-b073-462c-bf24-6614d3046311",
   "metadata": {},
   "outputs": [
    {
     "data": {
      "text/plain": [
       "'acq_20230105: [b03_array[0], b04_array[0]], acq_20230110: [b03_array[1], b04_array[1]], acq_20230115: [b03_array[2], b04_array[2]], acq_20230120: [b03_array[3], b04_array[3]], acq_20230125: [b03_array[4], b04_array[4]], acq_20230130: [b03_array[5], b04_array[5]]'"
      ]
     },
     "execution_count": 9,
     "metadata": {},
     "output_type": "execute_result"
    }
   ],
   "source": [
    "return_list = [f'acq_{scene}: [b03_array[{index}], b04_array[{index}]]' for index, scene in enumerate(timestamps)]\n",
    "return_str = \", \".join(return_list)\n",
    "return_str"
   ]
  },
  {
   "attachments": {},
   "cell_type": "markdown",
   "metadata": {},
   "source": [
    "## Process API\n",
    "\n",
    "Define the evalscript for the requests. Please note that we have to use double curly brackets throughout the script because we are inserting external variables with the output and return strings we defined above."
   ]
  },
  {
   "cell_type": "code",
   "execution_count": 10,
   "metadata": {},
   "outputs": [],
   "source": [
    "evalscript = f\"\"\"\n",
    "//VERSION=3\n",
    "function setup() {{\n",
    "  return {{\n",
    "    input: [\"B03\", \"B04\"],\n",
    "    output: [{output_str}],\n",
    "    mosaicking: \"ORBIT\"\n",
    "  }};\n",
    "}}\n",
    "\n",
    "function evaluatePixel(samples) {{\n",
    "  // Precompute an array to contain observations\n",
    "  var n_observations = samples.length;\n",
    "  let b03_array = new Array(n_observations).fill(NaN);\n",
    "  let b04_array = new Array(n_observations).fill(NaN);\n",
    "  \n",
    "  // Fill the array with values\n",
    "  samples.forEach((sample, index) => {{\n",
    "    b03_array[index] = sample.B03;\n",
    "    b04_array[index] = sample.B04;\n",
    "  }});\n",
    "\n",
    "  //return band_array\n",
    "  return {{{return_str}}};\n",
    "}}\n",
    "\"\"\""
   ]
  },
  {
   "cell_type": "code",
   "execution_count": 11,
   "metadata": {},
   "outputs": [
    {
     "data": {
      "text/plain": [
       "'\\n//VERSION=3\\nfunction setup() {\\n  return {\\n    input: [\"B03\", \"B04\"],\\n    output: [{id: \"acq_20230105\", bands: 2}, {id: \"acq_20230110\", bands: 2}, {id: \"acq_20230115\", bands: 2}, {id: \"acq_20230120\", bands: 2}, {id: \"acq_20230125\", bands: 2}, {id: \"acq_20230130\", bands: 2}],\\n    mosaicking: \"ORBIT\"\\n  };\\n}\\n\\nfunction evaluatePixel(samples) {\\n  // Precompute an array to contain observations\\n  var n_observations = samples.length;\\n  let b03_array = new Array(n_observations).fill(NaN);\\n  let b04_array = new Array(n_observations).fill(NaN);\\n  \\n  // Fill the array with values\\n  samples.forEach((sample, index) => {\\n    b03_array[index] = sample.B03;\\n    b04_array[index] = sample.B04;\\n  });\\n\\n  //return band_array\\n  return {acq_20230105: [b03_array[0], b04_array[0]], acq_20230110: [b03_array[1], b04_array[1]], acq_20230115: [b03_array[2], b04_array[2]], acq_20230120: [b03_array[3], b04_array[3]], acq_20230125: [b03_array[4], b04_array[4]], acq_20230130: [b03_array[5], b04_array[5]]};\\n}\\n'"
      ]
     },
     "execution_count": 11,
     "metadata": {},
     "output_type": "execute_result"
    }
   ],
   "source": [
    "evalscript"
   ]
  },
  {
   "attachments": {},
   "cell_type": "markdown",
   "metadata": {},
   "source": [
    "Define the request responses with the same identifiers as in the evalscript."
   ]
  },
  {
   "cell_type": "code",
   "execution_count": 12,
   "id": "4f69f61d-4a7b-4673-8636-0e17f9561310",
   "metadata": {},
   "outputs": [
    {
     "data": {
      "text/plain": [
       "[{'identifier': 'acq_20230105', 'format': {'type': 'image/tiff'}},\n",
       " {'identifier': 'acq_20230110', 'format': {'type': 'image/tiff'}},\n",
       " {'identifier': 'acq_20230115', 'format': {'type': 'image/tiff'}},\n",
       " {'identifier': 'acq_20230120', 'format': {'type': 'image/tiff'}},\n",
       " {'identifier': 'acq_20230125', 'format': {'type': 'image/tiff'}},\n",
       " {'identifier': 'acq_20230130', 'format': {'type': 'image/tiff'}}]"
      ]
     },
     "execution_count": 12,
     "metadata": {},
     "output_type": "execute_result"
    }
   ],
   "source": [
    "response_list = [SentinelHubRequest.output_response(f\"acq_{scene}\", MimeType.TIFF) for scene in timestamps]\n",
    "response_list"
   ]
  },
  {
   "attachments": {},
   "cell_type": "markdown",
   "metadata": {},
   "source": [
    "Prepare the request payload."
   ]
  },
  {
   "cell_type": "code",
   "execution_count": 13,
   "id": "901dfd5b-573f-4f27-9c29-0b4524ba2aea",
   "metadata": {},
   "outputs": [],
   "source": [
    "request = SentinelHubRequest(\n",
    "    data_folder=\"test_dir\",\n",
    "    evalscript=evalscript,\n",
    "    input_data=[\n",
    "        SentinelHubRequest.input_data(\n",
    "            data_collection=collection,\n",
    "            time_interval=time_interval,\n",
    "            mosaicking_order=MosaickingOrder.LEAST_RECENT\n",
    "        )\n",
    "    ],\n",
    "    responses=response_list,\n",
    "    bbox=testing_bbox,\n",
    "    size=bbox_size,\n",
    "    config=config,\n",
    ")"
   ]
  },
  {
   "cell_type": "code",
   "execution_count": 14,
   "id": "bfe80a50-a4a6-4986-bc25-174cd8614c04",
   "metadata": {},
   "outputs": [
    {
     "data": {
      "text/plain": [
       "[{'acq_20230105.tif': array([[[ 41,  38],\n",
       "          [ 48,  46],\n",
       "          [ 54,  52],\n",
       "          ...,\n",
       "          [ 83,  84],\n",
       "          [ 84,  84],\n",
       "          [ 82,  82]],\n",
       "  \n",
       "         [[ 43,  38],\n",
       "          [ 52,  51],\n",
       "          [ 56,  57],\n",
       "          ...,\n",
       "          [ 81,  81],\n",
       "          [ 81,  78],\n",
       "          [ 81,  78]],\n",
       "  \n",
       "         [[ 44,  40],\n",
       "          [ 56,  53],\n",
       "          [ 58,  58],\n",
       "          ...,\n",
       "          [ 76,  77],\n",
       "          [ 75,  74],\n",
       "          [ 79,  80]],\n",
       "  \n",
       "         ...,\n",
       "  \n",
       "         [[125, 127],\n",
       "          [119, 120],\n",
       "          [114, 114],\n",
       "          ...,\n",
       "          [ 27,  27],\n",
       "          [ 27,  26],\n",
       "          [ 32,  28]],\n",
       "  \n",
       "         [[128, 132],\n",
       "          [121, 127],\n",
       "          [121, 127],\n",
       "          ...,\n",
       "          [ 30,  30],\n",
       "          [ 28,  31],\n",
       "          [ 31,  33]],\n",
       "  \n",
       "         [[139, 143],\n",
       "          [135, 139],\n",
       "          [134, 138],\n",
       "          ...,\n",
       "          [ 31,  30],\n",
       "          [ 35,  35],\n",
       "          [ 36,  33]]], dtype=uint8),\n",
       "  'acq_20230110.tif': array([[[10,  5],\n",
       "          [ 6,  5],\n",
       "          [ 9,  9],\n",
       "          ...,\n",
       "          [14, 16],\n",
       "          [14, 19],\n",
       "          [13, 21]],\n",
       "  \n",
       "         [[ 7,  4],\n",
       "          [ 7,  6],\n",
       "          [ 6,  6],\n",
       "          ...,\n",
       "          [14, 14],\n",
       "          [14, 18],\n",
       "          [13, 21]],\n",
       "  \n",
       "         [[ 4,  5],\n",
       "          [11, 10],\n",
       "          [20, 19],\n",
       "          ...,\n",
       "          [15, 14],\n",
       "          [13, 15],\n",
       "          [11, 13]],\n",
       "  \n",
       "         ...,\n",
       "  \n",
       "         [[10, 16],\n",
       "          [14, 15],\n",
       "          [ 8, 14],\n",
       "          ...,\n",
       "          [18, 19],\n",
       "          [19, 21],\n",
       "          [23, 29]],\n",
       "  \n",
       "         [[14, 19],\n",
       "          [ 4,  7],\n",
       "          [ 4,  7],\n",
       "          ...,\n",
       "          [16, 20],\n",
       "          [14, 15],\n",
       "          [16, 22]],\n",
       "  \n",
       "         [[20, 27],\n",
       "          [10, 14],\n",
       "          [10, 13],\n",
       "          ...,\n",
       "          [11, 13],\n",
       "          [13, 13],\n",
       "          [19, 20]]], dtype=uint8),\n",
       "  'acq_20230115.tif': array([[[205, 197],\n",
       "          [205, 196],\n",
       "          [200, 196],\n",
       "          ...,\n",
       "          [124, 121],\n",
       "          [121, 117],\n",
       "          [119, 114]],\n",
       "  \n",
       "         [[207, 199],\n",
       "          [206, 199],\n",
       "          [202, 198],\n",
       "          ...,\n",
       "          [123, 117],\n",
       "          [120, 114],\n",
       "          [117, 111]],\n",
       "  \n",
       "         [[209, 201],\n",
       "          [207, 200],\n",
       "          [204, 200],\n",
       "          ...,\n",
       "          [119, 115],\n",
       "          [117, 111],\n",
       "          [117, 109]],\n",
       "  \n",
       "         ...,\n",
       "  \n",
       "         [[192, 181],\n",
       "          [192, 182],\n",
       "          [194, 183],\n",
       "          ...,\n",
       "          [173, 170],\n",
       "          [174, 171],\n",
       "          [168, 168]],\n",
       "  \n",
       "         [[191, 180],\n",
       "          [191, 181],\n",
       "          [193, 181],\n",
       "          ...,\n",
       "          [174, 172],\n",
       "          [175, 170],\n",
       "          [168, 166]],\n",
       "  \n",
       "         [[189, 180],\n",
       "          [188, 178],\n",
       "          [189, 180],\n",
       "          ...,\n",
       "          [177, 173],\n",
       "          [175, 170],\n",
       "          [171, 166]]], dtype=uint8),\n",
       "  'acq_20230120.tif': array([[[184, 184],\n",
       "          [186, 184],\n",
       "          [188, 184],\n",
       "          ...,\n",
       "          [180, 179],\n",
       "          [180, 179],\n",
       "          [179, 179]],\n",
       "  \n",
       "         [[184, 184],\n",
       "          [187, 184],\n",
       "          [188, 184],\n",
       "          ...,\n",
       "          [179, 179],\n",
       "          [179, 179],\n",
       "          [179, 179]],\n",
       "  \n",
       "         [[185, 188],\n",
       "          [187, 185],\n",
       "          [186, 185],\n",
       "          ...,\n",
       "          [179, 180],\n",
       "          [178, 180],\n",
       "          [179, 181]],\n",
       "  \n",
       "         ...,\n",
       "  \n",
       "         [[197, 196],\n",
       "          [195, 196],\n",
       "          [195, 195],\n",
       "          ...,\n",
       "          [224, 227],\n",
       "          [224, 227],\n",
       "          [224, 226]],\n",
       "  \n",
       "         [[195, 197],\n",
       "          [195, 197],\n",
       "          [195, 197],\n",
       "          ...,\n",
       "          [223, 228],\n",
       "          [225, 228],\n",
       "          [225, 227]],\n",
       "  \n",
       "         [[194, 196],\n",
       "          [194, 196],\n",
       "          [195, 196],\n",
       "          ...,\n",
       "          [224, 228],\n",
       "          [223, 228],\n",
       "          [225, 229]]], dtype=uint8),\n",
       "  'acq_20230125.tif': array([[[89, 87],\n",
       "          [89, 86],\n",
       "          [89, 87],\n",
       "          ...,\n",
       "          [73, 74],\n",
       "          [74, 74],\n",
       "          [74, 74]],\n",
       "  \n",
       "         [[90, 88],\n",
       "          [89, 88],\n",
       "          [90, 86],\n",
       "          ...,\n",
       "          [73, 73],\n",
       "          [74, 74],\n",
       "          [74, 75]],\n",
       "  \n",
       "         [[91, 90],\n",
       "          [90, 90],\n",
       "          [90, 89],\n",
       "          ...,\n",
       "          [74, 74],\n",
       "          [75, 74],\n",
       "          [74, 75]],\n",
       "  \n",
       "         ...,\n",
       "  \n",
       "         [[76, 73],\n",
       "          [76, 74],\n",
       "          [76, 74],\n",
       "          ...,\n",
       "          [77, 80],\n",
       "          [76, 77],\n",
       "          [76, 76]],\n",
       "  \n",
       "         [[75, 74],\n",
       "          [75, 73],\n",
       "          [75, 73],\n",
       "          ...,\n",
       "          [78, 79],\n",
       "          [77, 77],\n",
       "          [77, 77]],\n",
       "  \n",
       "         [[75, 74],\n",
       "          [73, 73],\n",
       "          [74, 74],\n",
       "          ...,\n",
       "          [79, 80],\n",
       "          [77, 79],\n",
       "          [77, 79]]], dtype=uint8),\n",
       "  'acq_20230130.tif': array([[[ 8,  6],\n",
       "          [12, 11],\n",
       "          [12, 12],\n",
       "          ...,\n",
       "          [11, 17],\n",
       "          [15, 20],\n",
       "          [12, 21]],\n",
       "  \n",
       "         [[13,  8],\n",
       "          [ 9,  8],\n",
       "          [10, 10],\n",
       "          ...,\n",
       "          [15, 16],\n",
       "          [16, 18],\n",
       "          [14, 21]],\n",
       "  \n",
       "         [[11,  8],\n",
       "          [12, 10],\n",
       "          [12, 11],\n",
       "          ...,\n",
       "          [16, 15],\n",
       "          [13, 16],\n",
       "          [13, 21]],\n",
       "  \n",
       "         ...,\n",
       "  \n",
       "         [[22, 23],\n",
       "          [35, 46],\n",
       "          [42, 43],\n",
       "          ...,\n",
       "          [22, 25],\n",
       "          [20, 23],\n",
       "          [21, 25]],\n",
       "  \n",
       "         [[18, 23],\n",
       "          [17, 20],\n",
       "          [20, 23],\n",
       "          ...,\n",
       "          [30, 31],\n",
       "          [18, 22],\n",
       "          [20, 21]],\n",
       "  \n",
       "         [[26, 35],\n",
       "          [11, 12],\n",
       "          [11, 14],\n",
       "          ...,\n",
       "          [25, 27],\n",
       "          [17, 18],\n",
       "          [18, 20]]], dtype=uint8)}]"
      ]
     },
     "execution_count": 14,
     "metadata": {},
     "output_type": "execute_result"
    }
   ],
   "source": [
    "request.get_data(save_data=True)"
   ]
  },
  {
   "cell_type": "code",
   "execution_count": null,
   "metadata": {},
   "outputs": [],
   "source": []
  }
 ],
 "metadata": {
  "kernelspec": {
   "display_name": "shpy",
   "language": "python",
   "name": "python3"
  },
  "language_info": {
   "codemirror_mode": {
    "name": "ipython",
    "version": 3
   },
   "file_extension": ".py",
   "mimetype": "text/x-python",
   "name": "python",
   "nbconvert_exporter": "python",
   "pygments_lexer": "ipython3",
   "version": "3.10.5"
  },
  "orig_nbformat": 4,
  "vscode": {
   "interpreter": {
    "hash": "8fc41c1749d5792551ab548b9270de7b4c46fc1995716db7f6bdc055e0da48d3"
   }
  }
 },
 "nbformat": 4,
 "nbformat_minor": 2
}
